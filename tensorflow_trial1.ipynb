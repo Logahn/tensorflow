{
  "nbformat": 4,
  "nbformat_minor": 0,
  "metadata": {
    "colab": {
      "name": "tensorflow trial1.ipynb",
      "provenance": [],
      "collapsed_sections": [],
      "authorship_tag": "ABX9TyOBuL/Xhxux8FL9M84OZZM0",
      "include_colab_link": true
    },
    "kernelspec": {
      "name": "python3",
      "display_name": "Python 3"
    },
    "language_info": {
      "name": "python"
    }
  },
  "cells": [
    {
      "cell_type": "markdown",
      "metadata": {
        "id": "view-in-github",
        "colab_type": "text"
      },
      "source": [
        "<a href=\"https://colab.research.google.com/github/Logahn/tensorflow/blob/master/tensorflow_trial1.ipynb\" target=\"_parent\"><img src=\"https://colab.research.google.com/assets/colab-badge.svg\" alt=\"Open In Colab\"/></a>"
      ]
    },
    {
      "cell_type": "code",
      "execution_count": null,
      "metadata": {
        "id": "LbgI56Vhnga0"
      },
      "outputs": [],
      "source": [
        "import tensorflow"
      ]
    },
    {
      "cell_type": "code",
      "source": [
        "import tensorflow as tf\n",
        "print(tf.__version__)"
      ],
      "metadata": {
        "colab": {
          "base_uri": "https://localhost:8080/"
        },
        "id": "skVF2QbWn8Y9",
        "outputId": "b79fd3f0-30ac-4f7f-c776-3d59ecee54a5"
      },
      "execution_count": null,
      "outputs": [
        {
          "output_type": "stream",
          "name": "stdout",
          "text": [
            "2.8.2\n"
          ]
        }
      ]
    },
    {
      "cell_type": "code",
      "source": [
        "import numpy as np"
      ],
      "metadata": {
        "id": "KMjjkrM7n_PV"
      },
      "execution_count": null,
      "outputs": []
    },
    {
      "cell_type": "code",
      "source": [
        "x = tf.constant(np.random.rand(32).astype(np.float32))\n",
        "y= tf.constant ([1,2,3])"
      ],
      "metadata": {
        "id": "8TfCQD0XoGau"
      },
      "execution_count": null,
      "outputs": []
    },
    {
      "cell_type": "code",
      "source": [
        "print(x)"
      ],
      "metadata": {
        "colab": {
          "base_uri": "https://localhost:8080/"
        },
        "id": "j5Tj5YaNoLWG",
        "outputId": "bad42d36-13d5-4f27-c984-13beaa59ae64"
      },
      "execution_count": null,
      "outputs": [
        {
          "output_type": "stream",
          "name": "stdout",
          "text": [
            "tf.Tensor(\n",
            "[0.24340726 0.9754266  0.9152998  0.31704164 0.6923275  0.6777269\n",
            " 0.33596435 0.80924284 0.00926662 0.5865164  0.8320385  0.13807644\n",
            " 0.5921765  0.8924999  0.46874243 0.9484611  0.50671375 0.37385708\n",
            " 0.84462    0.6942045  0.45773435 0.26549482 0.7508204  0.21839404\n",
            " 0.61362803 0.34127724 0.41340372 0.7903313  0.6595113  0.32587186\n",
            " 0.40578791 0.6881703 ], shape=(32,), dtype=float32)\n"
          ]
        }
      ]
    },
    {
      "cell_type": "code",
      "source": [
        "print(y)"
      ],
      "metadata": {
        "colab": {
          "base_uri": "https://localhost:8080/"
        },
        "id": "benqcWNZoNr_",
        "outputId": "7eabdf71-02d2-41b3-dca2-0c7c6fd1d70d"
      },
      "execution_count": null,
      "outputs": [
        {
          "output_type": "stream",
          "name": "stdout",
          "text": [
            "tf.Tensor([1 2 3], shape=(3,), dtype=int32)\n"
          ]
        }
      ]
    },
    {
      "cell_type": "code",
      "source": [
        ""
      ],
      "metadata": {
        "id": "7iI7A6CqoP9a"
      },
      "execution_count": null,
      "outputs": []
    }
  ]
}